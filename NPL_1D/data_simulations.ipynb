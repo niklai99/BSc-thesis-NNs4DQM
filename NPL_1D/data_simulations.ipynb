{
 "cells": [
  {
   "cell_type": "markdown",
   "metadata": {},
   "source": [
    "# Data Simulations EDA"
   ]
  },
  {
   "cell_type": "markdown",
   "metadata": {},
   "source": [
    "## Import modules"
   ]
  },
  {
   "cell_type": "code",
   "execution_count": 1,
   "metadata": {},
   "outputs": [],
   "source": [
    "import numpy as np\n",
    "import pandas as pd\n",
    "import matplotlib.pyplot as plt\n",
    "import seaborn as sns\n",
    "import warnings\n",
    "warnings.filterwarnings(\"ignore\", message=r\"elementwise\", category=FutureWarning)"
   ]
  },
  {
   "cell_type": "markdown",
   "metadata": {},
   "source": [
    "## Import DataCreator class"
   ]
  },
  {
   "cell_type": "code",
   "execution_count": 2,
   "metadata": {},
   "outputs": [],
   "source": [
    "from DataCreator import DataCreator"
   ]
  },
  {
   "cell_type": "markdown",
   "metadata": {},
   "source": [
    "## Data Exploration"
   ]
  },
  {
   "cell_type": "code",
   "execution_count": 3,
   "metadata": {},
   "outputs": [],
   "source": [
    "data_instance = DataCreator()"
   ]
  },
  {
   "cell_type": "code",
   "execution_count": 4,
   "metadata": {},
   "outputs": [],
   "source": [
    "N_Ref = 200000\n",
    "N_Bkg = 10000\n",
    "N_Sig = 100"
   ]
  },
  {
   "cell_type": "code",
   "execution_count": 5,
   "metadata": {},
   "outputs": [],
   "source": [
    "ref_df = data_instance.make_distribution(n_background=N_Ref, n_signal=0)\n",
    "# data_instance.save_distribution('reference_distribution.txt')\n",
    "\n",
    "data_df = data_instance.make_distribution(n_background=N_Bkg, n_signal=N_Sig)\n",
    "# data_instance.save_distribution('data_distribution.txt')"
   ]
  },
  {
   "cell_type": "code",
   "execution_count": 6,
   "metadata": {},
   "outputs": [
    {
     "data": {
      "text/html": [
       "<div>\n",
       "<style scoped>\n",
       "    .dataframe tbody tr th:only-of-type {\n",
       "        vertical-align: middle;\n",
       "    }\n",
       "\n",
       "    .dataframe tbody tr th {\n",
       "        vertical-align: top;\n",
       "    }\n",
       "\n",
       "    .dataframe thead th {\n",
       "        text-align: right;\n",
       "    }\n",
       "</style>\n",
       "<table border=\"1\" class=\"dataframe\">\n",
       "  <thead>\n",
       "    <tr style=\"text-align: right;\">\n",
       "      <th></th>\n",
       "      <th>feature0</th>\n",
       "    </tr>\n",
       "  </thead>\n",
       "  <tbody>\n",
       "    <tr>\n",
       "      <th>0</th>\n",
       "      <td>0.029591</td>\n",
       "    </tr>\n",
       "    <tr>\n",
       "      <th>1</th>\n",
       "      <td>0.150638</td>\n",
       "    </tr>\n",
       "    <tr>\n",
       "      <th>2</th>\n",
       "      <td>0.073537</td>\n",
       "    </tr>\n",
       "    <tr>\n",
       "      <th>3</th>\n",
       "      <td>0.090504</td>\n",
       "    </tr>\n",
       "    <tr>\n",
       "      <th>4</th>\n",
       "      <td>0.014164</td>\n",
       "    </tr>\n",
       "    <tr>\n",
       "      <th>...</th>\n",
       "      <td>...</td>\n",
       "    </tr>\n",
       "    <tr>\n",
       "      <th>199995</th>\n",
       "      <td>0.080796</td>\n",
       "    </tr>\n",
       "    <tr>\n",
       "      <th>199996</th>\n",
       "      <td>0.029786</td>\n",
       "    </tr>\n",
       "    <tr>\n",
       "      <th>199997</th>\n",
       "      <td>0.312213</td>\n",
       "    </tr>\n",
       "    <tr>\n",
       "      <th>199998</th>\n",
       "      <td>0.119624</td>\n",
       "    </tr>\n",
       "    <tr>\n",
       "      <th>199999</th>\n",
       "      <td>0.068943</td>\n",
       "    </tr>\n",
       "  </tbody>\n",
       "</table>\n",
       "<p>200000 rows × 1 columns</p>\n",
       "</div>"
      ],
      "text/plain": [
       "        feature0\n",
       "0       0.029591\n",
       "1       0.150638\n",
       "2       0.073537\n",
       "3       0.090504\n",
       "4       0.014164\n",
       "...          ...\n",
       "199995  0.080796\n",
       "199996  0.029786\n",
       "199997  0.312213\n",
       "199998  0.119624\n",
       "199999  0.068943\n",
       "\n",
       "[200000 rows x 1 columns]"
      ]
     },
     "execution_count": 6,
     "metadata": {},
     "output_type": "execute_result"
    }
   ],
   "source": [
    "ref_df"
   ]
  },
  {
   "cell_type": "markdown",
   "metadata": {},
   "source": [
    "### Method 1"
   ]
  },
  {
   "cell_type": "code",
   "execution_count": 7,
   "metadata": {},
   "outputs": [],
   "source": [
    "ref_target = np.zeros(N_Ref)\n",
    "data_target = np.ones(N_Bkg+N_Sig)\n",
    "target = np.append(ref_target, data_target)\n",
    "target = np.expand_dims(target, axis=1)"
   ]
  },
  {
   "cell_type": "code",
   "execution_count": 8,
   "metadata": {},
   "outputs": [
    {
     "data": {
      "text/plain": [
       "array([[0.],\n",
       "       [0.],\n",
       "       [0.],\n",
       "       ...,\n",
       "       [1.],\n",
       "       [1.],\n",
       "       [1.]])"
      ]
     },
     "execution_count": 8,
     "metadata": {},
     "output_type": "execute_result"
    }
   ],
   "source": [
    "target"
   ]
  },
  {
   "cell_type": "code",
   "execution_count": 9,
   "metadata": {},
   "outputs": [],
   "source": [
    "feature = np.concatenate((ref_df, data_df), axis=0)\n",
    "feature = np.concatenate((feature, target), axis=1)\n",
    "np.random.shuffle(feature)"
   ]
  },
  {
   "cell_type": "code",
   "execution_count": 10,
   "metadata": {},
   "outputs": [
    {
     "data": {
      "text/plain": [
       "array([[0.04410719, 0.        ],\n",
       "       [0.37658083, 0.        ],\n",
       "       [0.17236971, 0.        ],\n",
       "       ...,\n",
       "       [0.04359741, 0.        ],\n",
       "       [0.02489706, 0.        ],\n",
       "       [0.34070401, 0.        ]])"
      ]
     },
     "execution_count": 10,
     "metadata": {},
     "output_type": "execute_result"
    }
   ],
   "source": [
    "feature"
   ]
  },
  {
   "cell_type": "code",
   "execution_count": 18,
   "metadata": {},
   "outputs": [],
   "source": [
    "dataF = pd.DataFrame({'feature':feature[:, 0], 'target':feature[:, -1]})\n",
    "dataF.loc[(dataF['target']==0, 'Distribution')] = 'REF'\n",
    "dataF.loc[(dataF['target']==1, 'Distribution')] = 'DATA'"
   ]
  },
  {
   "cell_type": "code",
   "execution_count": 21,
   "metadata": {},
   "outputs": [
    {
     "data": {
      "image/png": "[encoded data removed]",
      "text/plain": [
       "<Figure size 1008x576 with 1 Axes>"
      ]
     },
     "metadata": {
      "needs_background": "light"
     },
     "output_type": "display_data"
    }
   ],
   "source": [
    "# creo figure&axes\n",
    "fig, ax = plt.subplots(figsize=(14,8))\n",
    "\n",
    "ax=sns.histplot(data=dataF, x='feature', hue='Distribution', stat='density', element='bars', fill=True, common_norm=False,\n",
    "             common_bins=True, bins = 100, palette=['#009AFF', '#ff6500'], edgecolor='white', multiple='layer', )\n",
    "\n",
    "ax.set_xlim(0, 1)\n",
    "\n",
    "plt.show()"
   ]
  },
  {
   "cell_type": "markdown",
   "metadata": {},
   "source": [
    "### Method 2"
   ]
  },
  {
   "cell_type": "code",
   "execution_count": 6,
   "metadata": {},
   "outputs": [],
   "source": [
    "ref_hist, ref_bins = np.histogram(ref_df, bins=100, density=False)\n",
    "data_hist, data_bins = np.histogram(data_df, bins=ref_bins, density=False)"
   ]
  },
  {
   "cell_type": "code",
   "execution_count": 7,
   "metadata": {},
   "outputs": [],
   "source": [
    "def middle_point(array):\n",
    "    mid_points = [(array[i]+array[i+1])/2 for i in np.arange(len(array)-1)]\n",
    "    return np.array(mid_points)"
   ]
  },
  {
   "cell_type": "code",
   "execution_count": 15,
   "metadata": {},
   "outputs": [
    {
     "data": {
      "image/png": "[encoded data removed]",
      "text/plain": [
       "<Figure size 1008x576 with 1 Axes>"
      ]
     },
     "metadata": {
      "needs_background": "light"
     },
     "output_type": "display_data"
    },
    {
     "data": {
      "image/png": "[encoded data removed]",
      "text/plain": [
       "<Figure size 1008x576 with 1 Axes>"
      ]
     },
     "metadata": {
      "needs_background": "light"
     },
     "output_type": "display_data"
    }
   ],
   "source": [
    "# creo figure&axes\n",
    "fig, ax = plt.subplots(figsize=(14,8))\n",
    "\n",
    "# istogramma reference\n",
    "ax = sns.histplot(x=middle_point(ref_bins),  bins=ref_bins, weights=ref_hist,\n",
    "                  stat='count', element='bars', fill=True, color='#009cff', edgecolor='white', zorder=1, label='reference')\n",
    "                  \n",
    "ax.set_xlim(0, 1)\n",
    "ax.set_yscale('log')\n",
    "\n",
    "ax.set_xlabel('x', fontsize = 28)\n",
    "ax.set_ylabel('Counts', fontsize = 28)\n",
    "\n",
    "ax.tick_params(axis = 'both', which = 'major', labelsize = 24, direction = 'out', length = 5)\n",
    "\n",
    "fig.savefig(f'../PLOTS/DISTRIBUTIONS/ref.pdf', facecolor = 'white')\n",
    "plt.show()\n",
    "\n",
    "fig, ax = plt.subplots(figsize=(14,8))\n",
    "# istogramma data\n",
    "ax = sns.histplot(x=middle_point(data_bins),  bins=data_bins, weights=data_hist,\n",
    "                  stat='count', element='bars', fill=True, color='#ff6500', edgecolor='white', zorder=0, label='data')\n",
    "\n",
    "ax.set_xlim(0, 1)\n",
    "ax.set_yscale('log')\n",
    "\n",
    "ax.set_xlabel('x', fontsize = 28)\n",
    "ax.set_ylabel('Counts', fontsize = 28)\n",
    "\n",
    "ax.tick_params(axis = 'both', which = 'major', labelsize = 24, direction = 'out', length = 5)\n",
    "\n",
    "fig.savefig(f'../PLOTS/DISTRIBUTIONS/exp.pdf', facecolor = 'white')\n",
    "plt.show()"
   ]
  }
 ],
 "metadata": {
  "interpreter": {
   "hash": "b3ba2566441a7c06988d0923437866b63cedc61552a5af99d1f4fb67d367b25f"
  },
  "kernelspec": {
   "display_name": "Python 3.8.5 64-bit ('base': conda)",
   "name": "python3"
  },
  "language_info": {
   "codemirror_mode": {
    "name": "ipython",
    "version": 3
   },
   "file_extension": ".py",
   "mimetype": "text/x-python",
   "name": "python",
   "nbconvert_exporter": "python",
   "pygments_lexer": "ipython3",
   "version": "3.8.5"
  }
 },
 "nbformat": 4,
 "nbformat_minor": 4
}

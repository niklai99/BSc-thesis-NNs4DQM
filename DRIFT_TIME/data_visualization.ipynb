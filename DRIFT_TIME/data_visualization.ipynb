{
 "cells": [
  {
   "cell_type": "markdown",
   "metadata": {},
   "source": [
    "# Data Simulations EDA"
   ]
  },
  {
   "cell_type": "markdown",
   "metadata": {},
   "source": [
    "## Import modules"
   ]
  },
  {
   "cell_type": "code",
   "execution_count": 1,
   "metadata": {},
   "outputs": [],
   "source": [
    "import numpy as np\n",
    "import pandas as pd\n",
    "import matplotlib.pyplot as plt\n",
    "import seaborn as sns\n",
    "import warnings\n",
    "warnings.filterwarnings(\"ignore\", message=r\"elementwise\", category=FutureWarning)"
   ]
  },
  {
   "cell_type": "markdown",
   "metadata": {},
   "source": [
    "## Import DataCreator class"
   ]
  },
  {
   "cell_type": "code",
   "execution_count": 2,
   "metadata": {},
   "outputs": [],
   "source": [
    "from DataReader import DataReader"
   ]
  },
  {
   "cell_type": "markdown",
   "metadata": {},
   "source": [
    "## Data Exploration"
   ]
  },
  {
   "cell_type": "code",
   "execution_count": 3,
   "metadata": {},
   "outputs": [],
   "source": [
    "data_instance = DataReader()"
   ]
  },
  {
   "cell_type": "code",
   "execution_count": 4,
   "metadata": {},
   "outputs": [],
   "source": [
    "N_Ref = 200000\n",
    "N_Bkg = 10000\n",
    "N_Sig = 0"
   ]
  },
  {
   "cell_type": "code",
   "execution_count": 5,
   "metadata": {},
   "outputs": [],
   "source": [
    "ref_df = data_instance.build_sample(file_name='RUN001252_cut_shifted_hstat_condor.txt', n_data=N_Ref)\n",
    "# data_instance.save_distribution('reference_distribution.txt')\n",
    "\n",
    "data_df = data_instance.build_sample(file_name='RUN001252_cut_shifted_hstat_condor.txt', n_data=N_Bkg)\n",
    "# data_instance.save_distribution('data_distribution.txt')"
   ]
  },
  {
   "cell_type": "markdown",
   "metadata": {},
   "source": [
    "### Method 1"
   ]
  },
  {
   "cell_type": "code",
   "execution_count": 7,
   "metadata": {},
   "outputs": [],
   "source": [
    "ref_target = np.zeros(N_Ref)\n",
    "data_target = np.ones(N_Bkg+N_Sig)\n",
    "target = np.append(ref_target, data_target)\n",
    "target = np.expand_dims(target, axis=1)"
   ]
  },
  {
   "cell_type": "code",
   "execution_count": 21,
   "metadata": {},
   "outputs": [
    {
     "data": {
      "text/plain": [
       "array([[0.],\n",
       "       [0.],\n",
       "       [0.],\n",
       "       ...,\n",
       "       [1.],\n",
       "       [1.],\n",
       "       [1.]])"
      ]
     },
     "execution_count": 21,
     "metadata": {},
     "output_type": "execute_result"
    }
   ],
   "source": [
    "target"
   ]
  },
  {
   "cell_type": "code",
   "execution_count": 9,
   "metadata": {},
   "outputs": [],
   "source": [
    "feature = np.concatenate((ref_df, data_df), axis=0)\n",
    "feature = np.expand_dims(feature, axis=1)\n",
    "feature = np.concatenate((feature, target), axis=1)\n",
    "np.random.shuffle(feature)"
   ]
  },
  {
   "cell_type": "code",
   "execution_count": 22,
   "metadata": {},
   "outputs": [
    {
     "data": {
      "text/plain": [
       "array([[ 40.       ,   0.       ],\n",
       "       [228.328125 ,   0.       ],\n",
       "       [ 77.5      ,   0.       ],\n",
       "       ...,\n",
       "       [ 84.1640625,   0.       ],\n",
       "       [332.5      ,   0.       ],\n",
       "       [ 50.8359375,   0.       ]])"
      ]
     },
     "execution_count": 22,
     "metadata": {},
     "output_type": "execute_result"
    }
   ],
   "source": [
    "feature"
   ]
  },
  {
   "cell_type": "code",
   "execution_count": 11,
   "metadata": {},
   "outputs": [],
   "source": [
    "dataF = pd.DataFrame({'feature':feature[:, 0], 'target':feature[:, -1]})\n",
    "dataF.loc[(dataF['target']==0, 'Distribution')] = 'REF'\n",
    "dataF.loc[(dataF['target']==1, 'Distribution')] = 'DATA'"
   ]
  },
  {
   "cell_type": "code",
   "execution_count": 19,
   "metadata": {},
   "outputs": [
    {
     "data": {
      "image/png": "[encoded data removed]",
      "text/plain": [
       "<Figure size 1008x576 with 1 Axes>"
      ]
     },
     "metadata": {
      "needs_background": "light"
     },
     "output_type": "display_data"
    }
   ],
   "source": [
    "# creo figure&axes\n",
    "fig, ax = plt.subplots(figsize=(14,8))\n",
    "\n",
    "ax=sns.histplot(data=dataF, x='feature', hue='Distribution', stat='density', element='bars', fill=True, common_norm=False,\n",
    "             common_bins=True, bins = 100, palette=['#009AFF', '#ff6500'], edgecolor='white', multiple='layer', )\n",
    "\n",
    "ax.set_xlim(-400, 900)\n",
    "\n",
    "plt.show()"
   ]
  },
  {
   "cell_type": "markdown",
   "metadata": {},
   "source": [
    "### Method 2"
   ]
  },
  {
   "cell_type": "code",
   "execution_count": 13,
   "metadata": {},
   "outputs": [],
   "source": [
    "ref_hist, ref_bins = np.histogram(ref_df, bins=100, density=False)\n",
    "data_hist, data_bins = np.histogram(data_df, bins=ref_bins, density=False)"
   ]
  },
  {
   "cell_type": "code",
   "execution_count": 14,
   "metadata": {},
   "outputs": [],
   "source": [
    "def middle_point(array):\n",
    "    mid_points = [(array[i]+array[i+1])/2 for i in np.arange(len(array)-1)]\n",
    "    return np.array(mid_points)"
   ]
  },
  {
   "cell_type": "code",
   "execution_count": 17,
   "metadata": {},
   "outputs": [
    {
     "data": {
      "image/png": "[encoded data removed]",
      "text/plain": [
       "<Figure size 1008x576 with 1 Axes>"
      ]
     },
     "metadata": {
      "needs_background": "light"
     },
     "output_type": "display_data"
    }
   ],
   "source": [
    "# creo figure&axes\n",
    "fig, ax = plt.subplots(figsize=(14,8))\n",
    "\n",
    "# istogramma reference\n",
    "ax = sns.histplot(x=middle_point(ref_bins),  bins=ref_bins, weights=ref_hist,\n",
    "                  stat='density', element='bars', fill=True, color='#009cff', edgecolor='white', zorder=1, label='reference')\n",
    "\n",
    "\n",
    "# istogramma data\n",
    "ax = sns.histplot(x=middle_point(data_bins),  bins=data_bins, weights=data_hist,\n",
    "                  stat='density', element='bars', fill=True, color='#ff6500', edgecolor='white', zorder=0, label='data')\n",
    "\n",
    "ax.set_xlim(-400, 900)\n",
    "\n",
    "ax.legend()\n",
    "plt.show()"
   ]
  }
 ],
 "metadata": {
  "kernelspec": {
   "display_name": "Python 3",
   "language": "python",
   "name": "python3"
  },
  "language_info": {
   "codemirror_mode": {
    "name": "ipython",
    "version": 3
   },
   "file_extension": ".py",
   "mimetype": "text/x-python",
   "name": "python",
   "nbconvert_exporter": "python",
   "pygments_lexer": "ipython3",
   "version": "3.8.5"
  }
 },
 "nbformat": 4,
 "nbformat_minor": 4
}

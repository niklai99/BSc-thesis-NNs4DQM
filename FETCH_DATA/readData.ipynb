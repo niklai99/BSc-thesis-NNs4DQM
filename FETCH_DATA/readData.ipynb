{
 "cells": [
  {
   "cell_type": "code",
   "execution_count": 1,
   "metadata": {},
   "outputs": [],
   "source": [
    "from s3fs.core import S3FileSystem\n",
    "import pandas as pd"
   ]
  },
  {
   "cell_type": "code",
   "execution_count": 2,
   "metadata": {},
   "outputs": [],
   "source": [
    "s3 = S3FileSystem(\n",
    "                    anon=False,\n",
    "                    key=\"69a290784f914f67afa14a5b4cadce79\",\n",
    "                    secret=\"2357420fac4f47d5b41d7cdeb52eb184\",\n",
    "                    client_kwargs={'endpoint_url': 'https://cloud-areapd.pd.infn.it:5210', \"verify\":False}\n",
    "    )"
   ]
  },
  {
   "cell_type": "code",
   "execution_count": 3,
   "metadata": {},
   "outputs": [],
   "source": [
    "# scegliere la run da cui prendere i dati\n",
    "RUNNUMBER = 1251\n",
    "\n",
    "# scegliere quanti file prendere\n",
    "# se si vogliono prendere tutti i dati della run inserire un intero negativo\n",
    "\n",
    "# SOME FILES\n",
    "# N è il numero di file .txt che vengono presi\n",
    "# NUMBER_OF_FILES è il numero totale di file che vengono presi in considerazione ma i .dat vengono scartati\n",
    "# NUMBER_OF_FILES = 2*N - 1\n",
    "\n",
    "# ALL FILES\n",
    "NUMBER_OF_FILES = -1"
   ]
  },
  {
   "cell_type": "code",
   "execution_count": 4,
   "metadata": {},
   "outputs": [],
   "source": [
    "# se NUMBNUMBER_OF_FILES è negativo allora lo fisso a -2\n",
    "if NUMBER_OF_FILES <= 0:\n",
    "    NUMBER_OF_FILES = -2\n",
    "\n",
    "# lettura dei file da CloudVeneto\n",
    "stream_df = pd.concat(\n",
    "                        [\n",
    "                            pd.read_csv(s3.open(f, mode='rb')) for f in s3.ls(\"/RUN00\"+str(RUNNUMBER)+\"/\")[1:1+NUMBER_OF_FILES:2]\n",
    "                        ],\n",
    "                        ignore_index=True\n",
    "            )\n",
    "\n",
    "# prendo solo i dati, cioè quelli con label 2\n",
    "data_df = stream_df[stream_df['HEAD']==2]"
   ]
  },
  {
   "cell_type": "code",
   "execution_count": 5,
   "metadata": {},
   "outputs": [],
   "source": [
    "# salvo i dati della run completa su un file per non dover aspettare mezz'ora ogni volta \n",
    "data_df.to_csv(f'../DATA/RUN00{RUNNUMBER}_data.txt', sep=' ', index=False, header=True)"
   ]
  }
 ],
 "metadata": {
  "kernelspec": {
   "display_name": "Python 3",
   "language": "python",
   "name": "python3"
  },
  "language_info": {
   "codemirror_mode": {
    "name": "ipython",
    "version": 3
   },
   "file_extension": ".py",
   "mimetype": "text/x-python",
   "name": "python",
   "nbconvert_exporter": "python",
   "pygments_lexer": "ipython3",
   "version": "3.8.5"
  }
 },
 "nbformat": 4,
 "nbformat_minor": 4
}

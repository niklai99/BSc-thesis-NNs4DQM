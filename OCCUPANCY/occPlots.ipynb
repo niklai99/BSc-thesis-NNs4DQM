{
 "cells": [
  {
   "cell_type": "code",
   "execution_count": 1,
   "metadata": {},
   "outputs": [],
   "source": [
    "import os\n",
    "import numpy as np\n",
    "import pandas as pd\n",
    "import matplotlib.pyplot as plt\n",
    "import seaborn as sns\n",
    "from matplotlib.ticker import ScalarFormatter\n",
    "import warnings\n",
    "warnings.simplefilter(action='ignore', category=FutureWarning)"
   ]
  },
  {
   "cell_type": "code",
   "execution_count": 2,
   "metadata": {},
   "outputs": [],
   "source": [
    "def change_legend(ax, new_loc, fontsize, titlesize, **kws):\n",
    "        '''funzione per modificare posizione e font size della legenda generata da seaborn'''\n",
    "\n",
    "        old_legend = ax.legend_\n",
    "        handles = old_legend.legendHandles\n",
    "        labels = [t.get_text() for t in old_legend.get_texts()]\n",
    "        title = old_legend.get_title().get_text()\n",
    "\n",
    "        ax.legend(handles, labels, loc=new_loc, title=title, fontsize=fontsize, title_fontsize=titlesize, frameon = True, fancybox = False, framealpha = 0.5, **kws)\n",
    "\n",
    "        return"
   ]
  },
  {
   "cell_type": "code",
   "execution_count": 3,
   "metadata": {},
   "outputs": [],
   "source": [
    "RUNNUMBER = 1253\n",
    "INPUT_PATH = '/lustre/cmswork/nlai/DATA/raw_data/'\n",
    "PLOT_PATH = '/lustre/cmswork/nlai/PLOTS/OCCUPANCY/THESIS/'\n",
    "\n",
    "INPUT_FILE = INPUT_PATH + f'RUN00{RUNNUMBER}_data.txt'\n",
    "\n",
    "if not os.path.exists(PLOT_PATH):\n",
    "    os.makedirs(PLOT_PATH)"
   ]
  },
  {
   "cell_type": "code",
   "execution_count": 4,
   "metadata": {},
   "outputs": [],
   "source": [
    "stream = pd.read_csv(INPUT_FILE, sep=' ')"
   ]
  },
  {
   "cell_type": "code",
   "execution_count": 5,
   "metadata": {},
   "outputs": [],
   "source": [
    "stream['TIME'] = stream['ORBIT_CNT']*3564*25 + stream['BX_COUNTER']*25 + stream['TDC_MEAS']*25/30"
   ]
  },
  {
   "cell_type": "code",
   "execution_count": 6,
   "metadata": {},
   "outputs": [],
   "source": [
    "data = stream[(stream['TDC_CHANNEL']!=128)]"
   ]
  },
  {
   "cell_type": "code",
   "execution_count": 7,
   "metadata": {},
   "outputs": [
    {
     "data": {
      "text/html": [
       "<div>\n",
       "<style scoped>\n",
       "    .dataframe tbody tr th:only-of-type {\n",
       "        vertical-align: middle;\n",
       "    }\n",
       "\n",
       "    .dataframe tbody tr th {\n",
       "        vertical-align: top;\n",
       "    }\n",
       "\n",
       "    .dataframe thead th {\n",
       "        text-align: right;\n",
       "    }\n",
       "</style>\n",
       "<table border=\"1\" class=\"dataframe\">\n",
       "  <thead>\n",
       "    <tr style=\"text-align: right;\">\n",
       "      <th></th>\n",
       "      <th>HEAD</th>\n",
       "      <th>FPGA</th>\n",
       "      <th>TDC_CHANNEL</th>\n",
       "      <th>ORBIT_CNT</th>\n",
       "      <th>BX_COUNTER</th>\n",
       "      <th>TDC_MEAS</th>\n",
       "      <th>TIME</th>\n",
       "    </tr>\n",
       "  </thead>\n",
       "  <tbody>\n",
       "    <tr>\n",
       "      <th>0</th>\n",
       "      <td>2</td>\n",
       "      <td>0</td>\n",
       "      <td>110</td>\n",
       "      <td>8863281</td>\n",
       "      <td>1106</td>\n",
       "      <td>21.0</td>\n",
       "      <td>7.897184e+11</td>\n",
       "    </tr>\n",
       "    <tr>\n",
       "      <th>1</th>\n",
       "      <td>2</td>\n",
       "      <td>0</td>\n",
       "      <td>121</td>\n",
       "      <td>8863309</td>\n",
       "      <td>44</td>\n",
       "      <td>8.0</td>\n",
       "      <td>7.897208e+11</td>\n",
       "    </tr>\n",
       "    <tr>\n",
       "      <th>2</th>\n",
       "      <td>2</td>\n",
       "      <td>0</td>\n",
       "      <td>0</td>\n",
       "      <td>8863317</td>\n",
       "      <td>2059</td>\n",
       "      <td>9.0</td>\n",
       "      <td>7.897216e+11</td>\n",
       "    </tr>\n",
       "    <tr>\n",
       "      <th>3</th>\n",
       "      <td>2</td>\n",
       "      <td>1</td>\n",
       "      <td>9</td>\n",
       "      <td>8863324</td>\n",
       "      <td>2556</td>\n",
       "      <td>6.0</td>\n",
       "      <td>7.897222e+11</td>\n",
       "    </tr>\n",
       "    <tr>\n",
       "      <th>4</th>\n",
       "      <td>2</td>\n",
       "      <td>1</td>\n",
       "      <td>121</td>\n",
       "      <td>8863324</td>\n",
       "      <td>2556</td>\n",
       "      <td>5.0</td>\n",
       "      <td>7.897222e+11</td>\n",
       "    </tr>\n",
       "    <tr>\n",
       "      <th>...</th>\n",
       "      <td>...</td>\n",
       "      <td>...</td>\n",
       "      <td>...</td>\n",
       "      <td>...</td>\n",
       "      <td>...</td>\n",
       "      <td>...</td>\n",
       "      <td>...</td>\n",
       "    </tr>\n",
       "    <tr>\n",
       "      <th>116249955</th>\n",
       "      <td>2</td>\n",
       "      <td>0</td>\n",
       "      <td>74</td>\n",
       "      <td>683779201</td>\n",
       "      <td>1490</td>\n",
       "      <td>15.0</td>\n",
       "      <td>6.092473e+13</td>\n",
       "    </tr>\n",
       "    <tr>\n",
       "      <th>116249956</th>\n",
       "      <td>2</td>\n",
       "      <td>1</td>\n",
       "      <td>5</td>\n",
       "      <td>683779201</td>\n",
       "      <td>1488</td>\n",
       "      <td>2.0</td>\n",
       "      <td>6.092473e+13</td>\n",
       "    </tr>\n",
       "    <tr>\n",
       "      <th>116249957</th>\n",
       "      <td>2</td>\n",
       "      <td>0</td>\n",
       "      <td>17</td>\n",
       "      <td>683779201</td>\n",
       "      <td>1489</td>\n",
       "      <td>23.0</td>\n",
       "      <td>6.092473e+13</td>\n",
       "    </tr>\n",
       "    <tr>\n",
       "      <th>116249958</th>\n",
       "      <td>2</td>\n",
       "      <td>1</td>\n",
       "      <td>2</td>\n",
       "      <td>683779201</td>\n",
       "      <td>1496</td>\n",
       "      <td>22.0</td>\n",
       "      <td>6.092473e+13</td>\n",
       "    </tr>\n",
       "    <tr>\n",
       "      <th>116249959</th>\n",
       "      <td>2</td>\n",
       "      <td>1</td>\n",
       "      <td>102</td>\n",
       "      <td>683779201</td>\n",
       "      <td>1493</td>\n",
       "      <td>15.0</td>\n",
       "      <td>6.092473e+13</td>\n",
       "    </tr>\n",
       "  </tbody>\n",
       "</table>\n",
       "<p>116084832 rows × 7 columns</p>\n",
       "</div>"
      ],
      "text/plain": [
       "           HEAD  FPGA  TDC_CHANNEL  ORBIT_CNT  BX_COUNTER  TDC_MEAS  \\\n",
       "0             2     0          110    8863281        1106      21.0   \n",
       "1             2     0          121    8863309          44       8.0   \n",
       "2             2     0            0    8863317        2059       9.0   \n",
       "3             2     1            9    8863324        2556       6.0   \n",
       "4             2     1          121    8863324        2556       5.0   \n",
       "...         ...   ...          ...        ...         ...       ...   \n",
       "116249955     2     0           74  683779201        1490      15.0   \n",
       "116249956     2     1            5  683779201        1488       2.0   \n",
       "116249957     2     0           17  683779201        1489      23.0   \n",
       "116249958     2     1            2  683779201        1496      22.0   \n",
       "116249959     2     1          102  683779201        1493      15.0   \n",
       "\n",
       "                   TIME  \n",
       "0          7.897184e+11  \n",
       "1          7.897208e+11  \n",
       "2          7.897216e+11  \n",
       "3          7.897222e+11  \n",
       "4          7.897222e+11  \n",
       "...                 ...  \n",
       "116249955  6.092473e+13  \n",
       "116249956  6.092473e+13  \n",
       "116249957  6.092473e+13  \n",
       "116249958  6.092473e+13  \n",
       "116249959  6.092473e+13  \n",
       "\n",
       "[116084832 rows x 7 columns]"
      ]
     },
     "execution_count": 7,
     "metadata": {},
     "output_type": "execute_result"
    }
   ],
   "source": [
    "data"
   ]
  },
  {
   "cell_type": "code",
   "execution_count": 8,
   "metadata": {},
   "outputs": [
    {
     "name": "stdout",
     "output_type": "stream",
     "text": [
      "Duration of the run:\n",
      " 60135 seconds \n",
      " 1002 minutes \n",
      " 17 hours\n"
     ]
    }
   ],
   "source": [
    "run_time = (data['TIME'].max() - data['TIME'].min()) * 1e-9\n",
    "print(f'Duration of the run:\\n {round(run_time)} seconds \\n {round(run_time/60)} minutes \\n {round(run_time/3600)} hours')"
   ]
  },
  {
   "cell_type": "code",
   "execution_count": 9,
   "metadata": {},
   "outputs": [],
   "source": [
    "data_fpga0 = data[(data['FPGA']==0)]\n",
    "data_fpga1 = data[(data['FPGA']==1)]"
   ]
  },
  {
   "cell_type": "code",
   "execution_count": 10,
   "metadata": {},
   "outputs": [],
   "source": [
    "hist_0, _ = np.histogram(data_fpga0['TDC_CHANNEL'], bins=np.arange(129))\n",
    "hist_1, _ = np.histogram(data_fpga1['TDC_CHANNEL'], bins=np.arange(129))"
   ]
  },
  {
   "cell_type": "code",
   "execution_count": 11,
   "metadata": {},
   "outputs": [],
   "source": [
    "rate_0 = hist_0 / run_time\n",
    "rate_1 = hist_1 / run_time"
   ]
  },
  {
   "cell_type": "code",
   "execution_count": 12,
   "metadata": {},
   "outputs": [
    {
     "data": {
      "image/png": "[encoded data removed]",
      "text/plain": [
       "<Figure size 1008x576 with 1 Axes>"
      ]
     },
     "metadata": {
      "needs_background": "light"
     },
     "output_type": "display_data"
    }
   ],
   "source": [
    "fig, ax = plt.subplots(figsize=(14,8))\n",
    "\n",
    "ax = sns.histplot(\n",
    "                    x=np.arange(128),  bins=np.arange(129), weights=hist_0,\n",
    "                    stat='count', element='bars', fill=True, \n",
    "                    color='#009cff', edgecolor='white', label='FPGA 0'\n",
    "                )\n",
    "\n",
    "ax = sns.histplot(\n",
    "                    x=np.arange(128),  bins=np.arange(129), weights=hist_1,\n",
    "                    stat='count', element='bars', fill=True, \n",
    "                    color='#FF6300', edgecolor='white', label='FPGA 1'\n",
    "                )\n",
    "\n",
    "# ax.axvline(64, color='black', linestyle='dashed', linewidth=1, alpha=1)\n",
    "\n",
    "\n",
    "ax.set_xlim(0, 128)\n",
    "\n",
    "\n",
    "ax.set_title(f'Occupancy Distribution - RUN{RUNNUMBER}', fontsize = 32)\n",
    "ax.set_xlabel('TDC Channel', fontsize = 28)\n",
    "ax.set_ylabel('Counts', fontsize = 28)\n",
    "\n",
    "ax.tick_params(axis = 'both', which = 'major', labelsize = 24, direction = 'out', length = 5)\n",
    "ax.yaxis.get_offset_text().set_fontsize(24)\n",
    "ax.yaxis.set_major_formatter(ScalarFormatter(useMathText=True))\n",
    "ax.ticklabel_format(axis = 'y', style = 'sci', scilimits = (0,0))\n",
    "\n",
    "ax.legend()\n",
    "change_legend(ax=ax, new_loc=\"upper right\", fontsize=22, titlesize=0)\n",
    "\n",
    "fig.tight_layout()\n",
    "\n",
    "fig.savefig(PLOT_PATH+f'RUN{RUNNUMBER}_occ.pdf', facecolor='white')\n",
    "\n",
    "plt.show()"
   ]
  },
  {
   "cell_type": "code",
   "execution_count": 13,
   "metadata": {},
   "outputs": [],
   "source": [
    "for i in range(1, len(rate_0)-1):\n",
    "    if (rate_0[i] - rate_0[i-1] > 1) and (rate_0[i] - rate_0[i+1] > 1):\n",
    "        rate_0[i] = (rate_0[i-1]+rate_0[i+1])/2\n",
    "        \n",
    "for i in range(1, len(rate_1)-1):\n",
    "    if (rate_1[i] - rate_1[i-1] > 1) and (rate_1[i] - rate_1[i+1] > 1):\n",
    "        rate_1[i] = (rate_1[i-1]+rate_1[i+1])/2"
   ]
  },
  {
   "cell_type": "code",
   "execution_count": 14,
   "metadata": {},
   "outputs": [
    {
     "data": {
      "image/png": "[encoded data removed]",
      "text/plain": [
       "<Figure size 1008x576 with 1 Axes>"
      ]
     },
     "metadata": {
      "needs_background": "light"
     },
     "output_type": "display_data"
    }
   ],
   "source": [
    "fig, ax = plt.subplots(figsize=(14,8))\n",
    "\n",
    "ax = sns.histplot(\n",
    "                    x=np.arange(128),  bins=np.arange(129), weights=rate_0,\n",
    "                    stat='count', element='bars', fill=True, \n",
    "                    color='#009cff', edgecolor='white', label='FPGA 0'\n",
    "                )\n",
    "\n",
    "ax = sns.histplot(\n",
    "                    x=np.arange(128),  bins=np.arange(129), weights=rate_1,\n",
    "                    stat='count', element='bars', fill=True, \n",
    "                    color='#FF6300', edgecolor='white', label='FPGA 1'\n",
    "                )\n",
    "\n",
    "# ax.axvline(64, color='black', linestyle='dashed', linewidth=1, alpha=1)\n",
    "\n",
    "ax.set_xlim(0, 128)\n",
    "ax.set_ylim(0, 15)\n",
    "\n",
    "\n",
    "\n",
    "ax.set_title(f'Rate Distribution - RUN{RUNNUMBER}', fontsize = 32)\n",
    "ax.set_xlabel('TDC Channel', fontsize = 28)\n",
    "ax.set_ylabel('Rate [Hz]', fontsize = 28)\n",
    "\n",
    "ax.tick_params(axis = 'both', which = 'major', labelsize = 24, direction = 'out', length = 5)\n",
    "ax.yaxis.get_offset_text().set_fontsize(24)\n",
    "ax.yaxis.set_major_formatter(ScalarFormatter(useMathText=True))\n",
    "ax.ticklabel_format(axis = 'y', style = 'sci', scilimits = (0,3))\n",
    "\n",
    "ax.legend()\n",
    "change_legend(ax=ax, new_loc=\"upper right\", fontsize=22, titlesize=0)\n",
    "\n",
    "fig.tight_layout()\n",
    "\n",
    "fig.savefig(PLOT_PATH+f'RUN{RUNNUMBER}_rate.pdf', facecolor='white')\n",
    "\n",
    "plt.show()"
   ]
  }
 ],
 "metadata": {
  "kernelspec": {
   "display_name": "Python 3",
   "language": "python",
   "name": "python3"
  },
  "language_info": {
   "codemirror_mode": {
    "name": "ipython",
    "version": 3
   },
   "file_extension": ".py",
   "mimetype": "text/x-python",
   "name": "python",
   "nbconvert_exporter": "python",
   "pygments_lexer": "ipython3",
   "version": "3.8.5"
  }
 },
 "nbformat": 4,
 "nbformat_minor": 4
}

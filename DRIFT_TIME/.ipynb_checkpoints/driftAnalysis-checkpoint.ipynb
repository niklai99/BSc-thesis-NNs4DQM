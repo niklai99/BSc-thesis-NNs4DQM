{
 "cells": [
  {
   "cell_type": "code",
   "execution_count": 1,
   "metadata": {},
   "outputs": [],
   "source": [
    "import numpy as np\n",
    "import pandas as pd\n",
    "import matplotlib.pyplot as plt\n",
    "import seaborn as sns\n",
    "pd.options.mode.chained_assignment = None  # default='warn'"
   ]
  },
  {
   "cell_type": "code",
   "execution_count": 2,
   "metadata": {},
   "outputs": [],
   "source": [
    "def change_legend(ax, new_loc, fontsize, titlesize, **kws):\n",
    "    '''funzione per modificare posizione e font size della legenda generata da seaborn'''\n",
    "    \n",
    "    old_legend = ax.legend_\n",
    "    handles = old_legend.legendHandles\n",
    "    labels = [t.get_text() for t in old_legend.get_texts()]\n",
    "    title = old_legend.get_title().get_text()\n",
    "    ax.legend(handles, labels, loc=new_loc, title=title, fontsize=fontsize, title_fontsize=titlesize, frameon = True, fancybox = False, framealpha = 0.5, **kws)\n",
    "    \n",
    "    return"
   ]
  },
  {
   "cell_type": "code",
   "execution_count": 3,
   "metadata": {},
   "outputs": [],
   "source": [
    "# numero della run da cui leggere i dati\n",
    "RUNNUMBER = 1252"
   ]
  },
  {
   "cell_type": "code",
   "execution_count": 4,
   "metadata": {},
   "outputs": [],
   "source": [
    "# leggo il file di dati relativo alla run scelta\n",
    "data = pd.read_csv(f'../DATA/RUN00{RUNNUMBER}_data.txt',sep=' ')"
   ]
  },
  {
   "cell_type": "code",
   "execution_count": 5,
   "metadata": {},
   "outputs": [],
   "source": [
    "# tolgo dati inutili cioè il canale 138 che non so cosa sia\n",
    "data = data[(data['TDC_CHANNEL']!=138)]"
   ]
  },
  {
   "cell_type": "code",
   "execution_count": 6,
   "metadata": {},
   "outputs": [],
   "source": [
    "data.reset_index(inplace=True, drop=True)"
   ]
  },
  {
   "cell_type": "code",
   "execution_count": 7,
   "metadata": {},
   "outputs": [
    {
     "data": {
      "text/html": [
       "<div>\n",
       "<style scoped>\n",
       "    .dataframe tbody tr th:only-of-type {\n",
       "        vertical-align: middle;\n",
       "    }\n",
       "\n",
       "    .dataframe tbody tr th {\n",
       "        vertical-align: top;\n",
       "    }\n",
       "\n",
       "    .dataframe thead th {\n",
       "        text-align: right;\n",
       "    }\n",
       "</style>\n",
       "<table border=\"1\" class=\"dataframe\">\n",
       "  <thead>\n",
       "    <tr style=\"text-align: right;\">\n",
       "      <th></th>\n",
       "      <th>HEAD</th>\n",
       "      <th>FPGA</th>\n",
       "      <th>TDC_CHANNEL</th>\n",
       "      <th>ORBIT_CNT</th>\n",
       "      <th>BX_COUNTER</th>\n",
       "      <th>TDC_MEAS</th>\n",
       "    </tr>\n",
       "  </thead>\n",
       "  <tbody>\n",
       "    <tr>\n",
       "      <th>0</th>\n",
       "      <td>2</td>\n",
       "      <td>1</td>\n",
       "      <td>31</td>\n",
       "      <td>155532</td>\n",
       "      <td>1950</td>\n",
       "      <td>29.0</td>\n",
       "    </tr>\n",
       "    <tr>\n",
       "      <th>1</th>\n",
       "      <td>2</td>\n",
       "      <td>1</td>\n",
       "      <td>43</td>\n",
       "      <td>155542</td>\n",
       "      <td>3285</td>\n",
       "      <td>17.0</td>\n",
       "    </tr>\n",
       "    <tr>\n",
       "      <th>2</th>\n",
       "      <td>2</td>\n",
       "      <td>1</td>\n",
       "      <td>45</td>\n",
       "      <td>155542</td>\n",
       "      <td>3286</td>\n",
       "      <td>8.0</td>\n",
       "    </tr>\n",
       "    <tr>\n",
       "      <th>3</th>\n",
       "      <td>2</td>\n",
       "      <td>0</td>\n",
       "      <td>88</td>\n",
       "      <td>155542</td>\n",
       "      <td>3288</td>\n",
       "      <td>24.0</td>\n",
       "    </tr>\n",
       "    <tr>\n",
       "      <th>4</th>\n",
       "      <td>2</td>\n",
       "      <td>1</td>\n",
       "      <td>126</td>\n",
       "      <td>155542</td>\n",
       "      <td>3286</td>\n",
       "      <td>14.0</td>\n",
       "    </tr>\n",
       "    <tr>\n",
       "      <th>...</th>\n",
       "      <td>...</td>\n",
       "      <td>...</td>\n",
       "      <td>...</td>\n",
       "      <td>...</td>\n",
       "      <td>...</td>\n",
       "      <td>...</td>\n",
       "    </tr>\n",
       "    <tr>\n",
       "      <th>140780482</th>\n",
       "      <td>2</td>\n",
       "      <td>0</td>\n",
       "      <td>48</td>\n",
       "      <td>807221825</td>\n",
       "      <td>3480</td>\n",
       "      <td>15.0</td>\n",
       "    </tr>\n",
       "    <tr>\n",
       "      <th>140780483</th>\n",
       "      <td>2</td>\n",
       "      <td>0</td>\n",
       "      <td>108</td>\n",
       "      <td>807221825</td>\n",
       "      <td>3476</td>\n",
       "      <td>30.0</td>\n",
       "    </tr>\n",
       "    <tr>\n",
       "      <th>140780484</th>\n",
       "      <td>2</td>\n",
       "      <td>0</td>\n",
       "      <td>49</td>\n",
       "      <td>807221825</td>\n",
       "      <td>3478</td>\n",
       "      <td>14.0</td>\n",
       "    </tr>\n",
       "    <tr>\n",
       "      <th>140780485</th>\n",
       "      <td>2</td>\n",
       "      <td>0</td>\n",
       "      <td>109</td>\n",
       "      <td>807221825</td>\n",
       "      <td>3479</td>\n",
       "      <td>21.0</td>\n",
       "    </tr>\n",
       "    <tr>\n",
       "      <th>140780486</th>\n",
       "      <td>2</td>\n",
       "      <td>0</td>\n",
       "      <td>110</td>\n",
       "      <td>807221825</td>\n",
       "      <td>3478</td>\n",
       "      <td>23.0</td>\n",
       "    </tr>\n",
       "  </tbody>\n",
       "</table>\n",
       "<p>140780487 rows × 6 columns</p>\n",
       "</div>"
      ],
      "text/plain": [
       "           HEAD  FPGA  TDC_CHANNEL  ORBIT_CNT  BX_COUNTER  TDC_MEAS\n",
       "0             2     1           31     155532        1950      29.0\n",
       "1             2     1           43     155542        3285      17.0\n",
       "2             2     1           45     155542        3286       8.0\n",
       "3             2     0           88     155542        3288      24.0\n",
       "4             2     1          126     155542        3286      14.0\n",
       "...         ...   ...          ...        ...         ...       ...\n",
       "140780482     2     0           48  807221825        3480      15.0\n",
       "140780483     2     0          108  807221825        3476      30.0\n",
       "140780484     2     0           49  807221825        3478      14.0\n",
       "140780485     2     0          109  807221825        3479      21.0\n",
       "140780486     2     0          110  807221825        3478      23.0\n",
       "\n",
       "[140780487 rows x 6 columns]"
      ]
     },
     "execution_count": 7,
     "metadata": {},
     "output_type": "execute_result"
    }
   ],
   "source": [
    "data"
   ]
  },
  {
   "cell_type": "markdown",
   "metadata": {},
   "source": [
    "### Tempo di Deriva"
   ]
  },
  {
   "cell_type": "code",
   "execution_count": 9,
   "metadata": {},
   "outputs": [],
   "source": [
    "# creo una nuova colonna dove converto i BX_COUNTER in TDC_MEAS \n",
    "data['TIME'] = data['BX_COUNTER']*30 + data['TDC_MEAS']"
   ]
  },
  {
   "cell_type": "code",
   "execution_count": 10,
   "metadata": {},
   "outputs": [],
   "source": [
    "# prendo tutti gli eventi segnalati dallo scintillatore\n",
    "scint = data[(data['TDC_CHANNEL']==128)]"
   ]
  },
  {
   "cell_type": "code",
   "execution_count": 11,
   "metadata": {},
   "outputs": [],
   "source": [
    "# check\n",
    "scint_restricted = scint.iloc[0:100]\n",
    "# scint_restricted"
   ]
  },
  {
   "cell_type": "code",
   "execution_count": 9,
   "metadata": {},
   "outputs": [
    {
     "data": {
      "text/html": [
       "<div>\n",
       "<style scoped>\n",
       "    .dataframe tbody tr th:only-of-type {\n",
       "        vertical-align: middle;\n",
       "    }\n",
       "\n",
       "    .dataframe tbody tr th {\n",
       "        vertical-align: top;\n",
       "    }\n",
       "\n",
       "    .dataframe thead th {\n",
       "        text-align: right;\n",
       "    }\n",
       "</style>\n",
       "<table border=\"1\" class=\"dataframe\">\n",
       "  <thead>\n",
       "    <tr style=\"text-align: right;\">\n",
       "      <th></th>\n",
       "      <th>HEAD</th>\n",
       "      <th>FPGA</th>\n",
       "      <th>TDC_CHANNEL</th>\n",
       "      <th>ORBIT_CNT</th>\n",
       "      <th>BX_COUNTER</th>\n",
       "      <th>TDC_MEAS</th>\n",
       "      <th>TIME</th>\n",
       "    </tr>\n",
       "  </thead>\n",
       "  <tbody>\n",
       "    <tr>\n",
       "      <th>1146</th>\n",
       "      <td>2</td>\n",
       "      <td>1</td>\n",
       "      <td>128</td>\n",
       "      <td>161749</td>\n",
       "      <td>2050</td>\n",
       "      <td>6.0</td>\n",
       "      <td>61506.0</td>\n",
       "    </tr>\n",
       "    <tr>\n",
       "      <th>1504</th>\n",
       "      <td>2</td>\n",
       "      <td>1</td>\n",
       "      <td>128</td>\n",
       "      <td>163652</td>\n",
       "      <td>383</td>\n",
       "      <td>4.0</td>\n",
       "      <td>11494.0</td>\n",
       "    </tr>\n",
       "    <tr>\n",
       "      <th>1535</th>\n",
       "      <td>2</td>\n",
       "      <td>1</td>\n",
       "      <td>128</td>\n",
       "      <td>163819</td>\n",
       "      <td>2049</td>\n",
       "      <td>5.0</td>\n",
       "      <td>61475.0</td>\n",
       "    </tr>\n",
       "    <tr>\n",
       "      <th>2752</th>\n",
       "      <td>2</td>\n",
       "      <td>1</td>\n",
       "      <td>128</td>\n",
       "      <td>170867</td>\n",
       "      <td>2566</td>\n",
       "      <td>7.0</td>\n",
       "      <td>76987.0</td>\n",
       "    </tr>\n",
       "    <tr>\n",
       "      <th>2856</th>\n",
       "      <td>2</td>\n",
       "      <td>1</td>\n",
       "      <td>128</td>\n",
       "      <td>171611</td>\n",
       "      <td>2822</td>\n",
       "      <td>19.0</td>\n",
       "      <td>84679.0</td>\n",
       "    </tr>\n",
       "    <tr>\n",
       "      <th>...</th>\n",
       "      <td>...</td>\n",
       "      <td>...</td>\n",
       "      <td>...</td>\n",
       "      <td>...</td>\n",
       "      <td>...</td>\n",
       "      <td>...</td>\n",
       "      <td>...</td>\n",
       "    </tr>\n",
       "    <tr>\n",
       "      <th>56432</th>\n",
       "      <td>2</td>\n",
       "      <td>1</td>\n",
       "      <td>128</td>\n",
       "      <td>472858</td>\n",
       "      <td>1242</td>\n",
       "      <td>26.0</td>\n",
       "      <td>37286.0</td>\n",
       "    </tr>\n",
       "    <tr>\n",
       "      <th>56665</th>\n",
       "      <td>2</td>\n",
       "      <td>1</td>\n",
       "      <td>128</td>\n",
       "      <td>473844</td>\n",
       "      <td>66</td>\n",
       "      <td>9.0</td>\n",
       "      <td>1989.0</td>\n",
       "    </tr>\n",
       "    <tr>\n",
       "      <th>56813</th>\n",
       "      <td>2</td>\n",
       "      <td>1</td>\n",
       "      <td>128</td>\n",
       "      <td>474473</td>\n",
       "      <td>483</td>\n",
       "      <td>23.0</td>\n",
       "      <td>14513.0</td>\n",
       "    </tr>\n",
       "    <tr>\n",
       "      <th>57618</th>\n",
       "      <td>2</td>\n",
       "      <td>1</td>\n",
       "      <td>128</td>\n",
       "      <td>478860</td>\n",
       "      <td>826</td>\n",
       "      <td>1.0</td>\n",
       "      <td>24781.0</td>\n",
       "    </tr>\n",
       "    <tr>\n",
       "      <th>57695</th>\n",
       "      <td>2</td>\n",
       "      <td>1</td>\n",
       "      <td>128</td>\n",
       "      <td>479247</td>\n",
       "      <td>2284</td>\n",
       "      <td>3.0</td>\n",
       "      <td>68523.0</td>\n",
       "    </tr>\n",
       "  </tbody>\n",
       "</table>\n",
       "<p>100 rows × 7 columns</p>\n",
       "</div>"
      ],
      "text/plain": [
       "       HEAD  FPGA  TDC_CHANNEL  ORBIT_CNT  BX_COUNTER  TDC_MEAS     TIME\n",
       "1146      2     1          128     161749        2050       6.0  61506.0\n",
       "1504      2     1          128     163652         383       4.0  11494.0\n",
       "1535      2     1          128     163819        2049       5.0  61475.0\n",
       "2752      2     1          128     170867        2566       7.0  76987.0\n",
       "2856      2     1          128     171611        2822      19.0  84679.0\n",
       "...     ...   ...          ...        ...         ...       ...      ...\n",
       "56432     2     1          128     472858        1242      26.0  37286.0\n",
       "56665     2     1          128     473844          66       9.0   1989.0\n",
       "56813     2     1          128     474473         483      23.0  14513.0\n",
       "57618     2     1          128     478860         826       1.0  24781.0\n",
       "57695     2     1          128     479247        2284       3.0  68523.0\n",
       "\n",
       "[100 rows x 7 columns]"
      ]
     },
     "execution_count": 9,
     "metadata": {},
     "output_type": "execute_result"
    }
   ],
   "source": [
    "scint_restricted"
   ]
  },
  {
   "cell_type": "code",
   "execution_count": 12,
   "metadata": {
    "scrolled": true
   },
   "outputs": [],
   "source": [
    "drift_time = []\n",
    "\n",
    "# per ogni segnale misurato dallo scintillatore\n",
    "for i, scint_orb_cnt in enumerate(scint_restricted['ORBIT_CNT']):\n",
    "    # chiamo 'event' il dataframe contentente tutti i dati con stesso ORBIT_CNT dello scintillatore i-esimo\n",
    "    event = data[(data['ORBIT_CNT']==scint_orb_cnt) & (data['TDC_CHANNEL']!=128)]\n",
    "    # calcolo la drift time come (tempo dati - tempo scintillatore)\n",
    "    event['DRIFT_TIME'] = event['TIME'] - scint['TIME'].iloc[i]\n",
    "    # aggiungo alla lista le drift time dell'evento i-esimo \n",
    "    drift_time.append(event['DRIFT_TIME'])\n",
    "\n",
    "# unisco i dataframe salvati nella lista in uno unico dataframe\n",
    "drift_time = pd.concat(drift_time, ignore_index=True)"
   ]
  },
  {
   "cell_type": "code",
   "execution_count": 11,
   "metadata": {},
   "outputs": [
    {
     "data": {
      "text/plain": [
       "0      -124.0\n",
       "1      -110.0\n",
       "2        16.0\n",
       "3      -104.0\n",
       "4        22.0\n",
       "        ...  \n",
       "1547    314.0\n",
       "1548    284.0\n",
       "1549     25.0\n",
       "1550     87.0\n",
       "1551    172.0\n",
       "Name: DRIFT_TIME, Length: 1552, dtype: float64"
      ]
     },
     "execution_count": 11,
     "metadata": {},
     "output_type": "execute_result"
    }
   ],
   "source": [
    "drift_time"
   ]
  },
  {
   "cell_type": "code",
   "execution_count": 16,
   "metadata": {},
   "outputs": [
    {
     "data": {
      "image/png": "[encoded data removed]",
      "text/plain": [
       "<Figure size 1008x576 with 1 Axes>"
      ]
     },
     "metadata": {
      "needs_background": "light"
     },
     "output_type": "display_data"
    }
   ],
   "source": [
    "fig, ax = plt.subplots(figsize=(14,8))\n",
    "\n",
    "# ax=sns.histplot(x=drift_time[(drift_time>-2000)&(drift_time<2000)], \n",
    "#              stat='count', bins=128, element='bars', fill=True, color='#009cff', edgecolor='white')\n",
    "\n",
    "ax=sns.histplot(x=drift_time, # bins=500, \n",
    "                 stat='count', element='bars', fill=True, color='#009cff', edgecolor='white')\n",
    "\n",
    "# ax.set_xlim(left=-1000, right=1000)\n",
    "\n",
    "ax.set_title('Drift Time Distribution', fontsize = 18)\n",
    "ax.set_xlabel('DRIFT_TIME [a.u.]', fontsize = 16)\n",
    "ax.set_ylabel('Counts', fontsize = 16)\n",
    "ax.tick_params(axis = 'both', which = 'major', labelsize = 14, direction = 'out', length = 5)\n",
    "\n",
    "fig.tight_layout()\n",
    "# fig.savefig(f'../PLOTS/RUN00{RUNNUMBER}_drift_time_test1.png', dpi = 300, facecolor = 'white')\n",
    "\n",
    "plt.show()"
   ]
  }
 ],
 "metadata": {
  "kernelspec": {
   "display_name": "Python 3",
   "language": "python",
   "name": "python3"
  },
  "language_info": {
   "codemirror_mode": {
    "name": "ipython",
    "version": 3
   },
   "file_extension": ".py",
   "mimetype": "text/x-python",
   "name": "python",
   "nbconvert_exporter": "python",
   "pygments_lexer": "ipython3",
   "version": "3.8.5"
  }
 },
 "nbformat": 4,
 "nbformat_minor": 4
}
